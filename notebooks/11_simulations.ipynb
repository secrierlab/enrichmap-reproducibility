{
 "cells": [
  {
   "cell_type": "code",
   "execution_count": 1,
   "metadata": {},
   "outputs": [],
   "source": [
    "import os\n",
    "os.environ[\"PYTHONWARNINGS\"] = \"ignore\""
   ]
  },
  {
   "cell_type": "code",
   "execution_count": 2,
   "metadata": {},
   "outputs": [],
   "source": [
    "import warnings\n",
    "warnings.filterwarnings(\"ignore\")"
   ]
  },
  {
   "cell_type": "code",
   "execution_count": 3,
   "metadata": {},
   "outputs": [],
   "source": [
    "import scanpy as sc\n",
    "import squidpy as sq\n",
    "import anndata\n",
    "import pandas as pd\n",
    "import numpy as np\n",
    "import decoupler as dc\n",
    "import gseapy as gp\n",
    "import matplotlib.pyplot as plt\n",
    "\n",
    "from libpysal.weights import KNN\n",
    "from esda.moran import Moran\n",
    "from skimage.draw import disk\n",
    "from scipy.spatial import distance"
   ]
  },
  {
   "cell_type": "code",
   "execution_count": 4,
   "metadata": {},
   "outputs": [],
   "source": [
    "sc.set_figure_params(dpi=100, facecolor=None, color_map=\"seismic\", frameon=False, vector_friendly=True)\n",
    "sc.settings._vector_friendly = False"
   ]
  },
  {
   "cell_type": "code",
   "execution_count": 5,
   "metadata": {},
   "outputs": [],
   "source": [
    "# set working directory\n",
    "project_dir = \"/Users/cenkcelik/Cenk_scoring/\"\n",
    "working_dir = project_dir + \"\"\n",
    "os.chdir(working_dir)\n",
    "\n",
    "# set figure directory\n",
    "figure_dir = working_dir + \"figures/\"\n",
    "\n",
    "# processed data directory\n",
    "processed_data = working_dir + \"processed_data/\""
   ]
  },
  {
   "cell_type": "code",
   "execution_count": 6,
   "metadata": {},
   "outputs": [],
   "source": [
    "# import a local package\n",
    "import sys\n",
    "sys.path.append(\"/Users/cenkcelik/Documents/GitHub/EnrichMap/\")\n",
    "import enrichmap as em"
   ]
  },
  {
   "cell_type": "code",
   "execution_count": 7,
   "metadata": {},
   "outputs": [],
   "source": [
    "# Load human gene names from a reference file or database\n",
    "def load_human_genes(n_genes=15000):\n",
    "    gene_list = pd.read_csv(\"https://www.genenames.org/cgi-bin/download/custom?col=gd_app_sym&status=Approved&hgnc_dbtag=on&order_by=gd_app_sym&format=text\", sep=\"\\t\")\n",
    "    return np.random.choice(gene_list[\"Approved symbol\"].values, n_genes, replace=False)\n",
    "\n",
    "# Generate hexagonal grid for 10X Visium-like spatial coordinates\n",
    "def generate_hexagonal_grid(rows=70, cols=70, spacing=50):\n",
    "    x_coords, y_coords = [], []\n",
    "    for row in range(rows):\n",
    "        for col in range(cols):\n",
    "            x = col * spacing + (row % 2) * (spacing / 2)\n",
    "            y = row * spacing * np.sqrt(3) / 2\n",
    "            x_coords.append(x)\n",
    "            y_coords.append(y)\n",
    "    return np.array(x_coords), np.array(y_coords)\n",
    "\n",
    "# Assign biological labels in spatially coherent clusters\n",
    "def assign_spatial_clusters(x_coords, y_coords, labels):\n",
    "    num_spots = len(x_coords)\n",
    "    label_assignment = np.random.choice(labels, num_spots, replace=True)\n",
    "    \n",
    "    for i in range(num_spots):\n",
    "        nearest_neighbours = distance.cdist([(x_coords[i], y_coords[i])], np.column_stack((x_coords, y_coords))).flatten()\n",
    "        close_spots = np.argsort(nearest_neighbours)[1:4]\n",
    "        label_assignment[close_spots] = label_assignment[i] # Increase local clustering\n",
    "    \n",
    "    return label_assignment\n",
    "\n",
    "# Simulate expression matrix\n",
    "def generate_expression_matrix(n_spots, n_genes, labels, gene_signature):\n",
    "    expression_matrix = np.random.poisson(5, (n_spots, n_genes))\n",
    "    \n",
    "    # Boost state gene expression in made up-labelled spots\n",
    "    made_up_spots = np.where(labels == \"cluster_2\")[0]\n",
    "    expression_matrix[made_up_spots[:, None], gene_signature] *= 5\n",
    "    \n",
    "    return expression_matrix\n",
    "\n",
    "# generate a number between 0-255\n",
    "def random_color():\n",
    "    return np.random.randint(0, 256)\n",
    "\n",
    "# Generate a dummy tissue image\n",
    "def generate_tissue_image(image_size=(2000, 2000)):\n",
    "    image = np.ones((*image_size, 3), dtype=np.uint8) * 252\n",
    "    rr, cc = disk((500, 500), 300, shape=image.shape[:2])\n",
    "    image[rr, cc] = [random_color(), random_color(), random_color()]\n",
    "    return image\n",
    "\n",
    "# Main function to generate simulated spatial AnnData\n",
    "def generate_spatial_cancer_data(seed=0):\n",
    "    np.random.seed(seed)\n",
    "    n_genes = 15000\n",
    "    x_coords, y_coords = generate_hexagonal_grid()\n",
    "    n_spots = len(x_coords)\n",
    "    gene_names = load_human_genes(n_genes)\n",
    "    \n",
    "    # Define labels\n",
    "    labels = np.array([\"cluster_1\", \"cluster_2\", \"cluster_3\", \"cluster_4\"])\n",
    "    assigned_labels = assign_spatial_clusters(x_coords, y_coords, labels)\n",
    "    \n",
    "    # Pick Made-up spots-related genes\n",
    "    spot_gene_indices = np.random.choice(n_genes, size=100, replace=False)\n",
    "    \n",
    "    # Generate expression data\n",
    "    expression_matrix = generate_expression_matrix(n_spots, n_genes, assigned_labels, spot_gene_indices)\n",
    "    \n",
    "    # Create AnnData object\n",
    "    adata = anndata.AnnData(X=expression_matrix)\n",
    "    adata.var_names = gene_names\n",
    "    adata.obs[\"cluster\"] = assigned_labels\n",
    "    adata.obsm[\"spatial\"] = np.column_stack((x_coords, y_coords))\n",
    "    \n",
    "    # Add Visium-like metadata\n",
    "    adata.uns[\"spatial\"] = {\n",
    "        \"image_1\": {\n",
    "            \"images\": {\n",
    "                \"hires\": generate_tissue_image(),\n",
    "                \"lowres\": generate_tissue_image((500, 500))\n",
    "            },\n",
    "            \"metadata\": {\n",
    "                \"chemistry_description\": \"Spatial 3' v1\",\n",
    "                \"software_version\": \"spaceranger-1.2.2\"\n",
    "            },\n",
    "            \"scalefactors\": {\n",
    "                \"fiducial_diameter_fullres\": 28.89725002221966,\n",
    "                \"spot_diameter_fullres\": 17.888773823278836,\n",
    "                \"tissue_hires_scalef\": 0.856531,\n",
    "                \"tissue_lowres_scalef\": 0.25695932\n",
    "            }\n",
    "        }\n",
    "    }\n",
    "    \n",
    "    return adata"
   ]
  },
  {
   "cell_type": "code",
   "execution_count": 8,
   "metadata": {},
   "outputs": [],
   "source": [
    "from anndata import AnnData\n",
    "from typing import List\n",
    "from scipy.spatial.distance import pdist\n",
    "from skgstat import Variogram\n",
    "\n",
    "def variogram(\n",
    "    adata: AnnData,\n",
    "    score_keys: List[str],\n",
    "    save: None | str = None,\n",
    "    max_lag: float | None = None,\n",
    "    lag_percentile: float = 95\n",
    ") -> List[Variogram]:\n",
    "    coords = adata.obsm[\"spatial\"]\n",
    "\n",
    "    if max_lag is None:\n",
    "        dists = pdist(coords)\n",
    "        max_lag = np.percentile(dists, lag_percentile)\n",
    "\n",
    "    variograms = []\n",
    "    for key in score_keys:\n",
    "        values = adata.obs[key].values\n",
    "        V = Variogram(coords, values, method=\"cressie\", model=\"gaussian\", verbose=True)\n",
    "        variograms.append(V)\n",
    "\n",
    "    return variograms"
   ]
  },
  {
   "cell_type": "code",
   "execution_count": 9,
   "metadata": {},
   "outputs": [
    {
     "name": "stdout",
     "output_type": "stream",
     "text": [
      "[2732 9845 3264 4859 9225 7891 4373 5874 6744 3468]\n"
     ]
    }
   ],
   "source": [
    "# Define simulation parameters\n",
    "n_simulations = 100\n",
    "# generate list of random numbers\n",
    "np.random.seed(0)\n",
    "random_numbers = np.random.randint(0, 10000, n_simulations)\n",
    "print(random_numbers[:10])"
   ]
  },
  {
   "cell_type": "code",
   "execution_count": 10,
   "metadata": {},
   "outputs": [],
   "source": [
    "spatial_metrics = []\n",
    "scores_summary = []\n",
    "variogram_summary = []"
   ]
  },
  {
   "cell_type": "code",
   "execution_count": 11,
   "metadata": {},
   "outputs": [
    {
     "name": "stdout",
     "output_type": "stream",
     "text": [
      "Running simulation for seed: 2732\n"
     ]
    },
    {
     "name": "stderr",
     "output_type": "stream",
     "text": [
      "Scoring signatures: 100%|██████████| 1/1 [00:00<00:00,  6.34it/s]\n"
     ]
    },
    {
     "name": "stdout",
     "output_type": "stream",
     "text": [
      "Running simulation for seed: 9845\n"
     ]
    },
    {
     "name": "stderr",
     "output_type": "stream",
     "text": [
      "Scoring signatures: 100%|██████████| 1/1 [00:00<00:00,  7.37it/s]\n"
     ]
    },
    {
     "name": "stdout",
     "output_type": "stream",
     "text": [
      "Running simulation for seed: 3264\n"
     ]
    },
    {
     "name": "stderr",
     "output_type": "stream",
     "text": [
      "Scoring signatures: 100%|██████████| 1/1 [00:00<00:00,  7.27it/s]\n"
     ]
    },
    {
     "name": "stdout",
     "output_type": "stream",
     "text": [
      "Running simulation for seed: 4859\n"
     ]
    },
    {
     "name": "stderr",
     "output_type": "stream",
     "text": [
      "Scoring signatures: 100%|██████████| 1/1 [00:00<00:00,  7.46it/s]\n"
     ]
    },
    {
     "name": "stdout",
     "output_type": "stream",
     "text": [
      "Running simulation for seed: 9225\n"
     ]
    },
    {
     "name": "stderr",
     "output_type": "stream",
     "text": [
      "Scoring signatures: 100%|██████████| 1/1 [00:00<00:00,  6.63it/s]\n"
     ]
    },
    {
     "name": "stdout",
     "output_type": "stream",
     "text": [
      "Running simulation for seed: 7891\n"
     ]
    },
    {
     "name": "stderr",
     "output_type": "stream",
     "text": [
      "Scoring signatures: 100%|██████████| 1/1 [00:00<00:00,  6.89it/s]\n"
     ]
    },
    {
     "name": "stdout",
     "output_type": "stream",
     "text": [
      "Running simulation for seed: 4373\n"
     ]
    },
    {
     "name": "stderr",
     "output_type": "stream",
     "text": [
      "Scoring signatures: 100%|██████████| 1/1 [00:00<00:00,  7.54it/s]\n"
     ]
    },
    {
     "name": "stdout",
     "output_type": "stream",
     "text": [
      "Running simulation for seed: 5874\n"
     ]
    },
    {
     "name": "stderr",
     "output_type": "stream",
     "text": [
      "Scoring signatures: 100%|██████████| 1/1 [00:00<00:00,  5.32it/s]\n"
     ]
    },
    {
     "name": "stdout",
     "output_type": "stream",
     "text": [
      "Running simulation for seed: 6744\n"
     ]
    },
    {
     "name": "stderr",
     "output_type": "stream",
     "text": [
      "Scoring signatures: 100%|██████████| 1/1 [00:00<00:00,  5.18it/s]\n"
     ]
    },
    {
     "name": "stdout",
     "output_type": "stream",
     "text": [
      "Running simulation for seed: 3468\n"
     ]
    },
    {
     "name": "stderr",
     "output_type": "stream",
     "text": [
      "Scoring signatures: 100%|██████████| 1/1 [00:00<00:00,  7.45it/s]\n"
     ]
    },
    {
     "name": "stdout",
     "output_type": "stream",
     "text": [
      "Running simulation for seed: 705\n"
     ]
    },
    {
     "name": "stderr",
     "output_type": "stream",
     "text": [
      "Scoring signatures: 100%|██████████| 1/1 [00:00<00:00,  7.32it/s]\n"
     ]
    },
    {
     "name": "stdout",
     "output_type": "stream",
     "text": [
      "Running simulation for seed: 2599\n"
     ]
    },
    {
     "name": "stderr",
     "output_type": "stream",
     "text": [
      "Scoring signatures: 100%|██████████| 1/1 [00:00<00:00,  6.82it/s]\n"
     ]
    },
    {
     "name": "stdout",
     "output_type": "stream",
     "text": [
      "Running simulation for seed: 2222\n"
     ]
    },
    {
     "name": "stderr",
     "output_type": "stream",
     "text": [
      "Scoring signatures: 100%|██████████| 1/1 [00:00<00:00,  6.23it/s]\n"
     ]
    },
    {
     "name": "stdout",
     "output_type": "stream",
     "text": [
      "Running simulation for seed: 7768\n"
     ]
    },
    {
     "name": "stderr",
     "output_type": "stream",
     "text": [
      "Scoring signatures: 100%|██████████| 1/1 [00:00<00:00,  7.48it/s]\n"
     ]
    },
    {
     "name": "stdout",
     "output_type": "stream",
     "text": [
      "Running simulation for seed: 2897\n"
     ]
    },
    {
     "name": "stderr",
     "output_type": "stream",
     "text": [
      "Scoring signatures: 100%|██████████| 1/1 [00:00<00:00,  7.39it/s]\n"
     ]
    },
    {
     "name": "stdout",
     "output_type": "stream",
     "text": [
      "Running simulation for seed: 9893\n"
     ]
    },
    {
     "name": "stderr",
     "output_type": "stream",
     "text": [
      "Scoring signatures: 100%|██████████| 1/1 [00:00<00:00,  7.65it/s]\n"
     ]
    },
    {
     "name": "stdout",
     "output_type": "stream",
     "text": [
      "Running simulation for seed: 537\n"
     ]
    },
    {
     "name": "stderr",
     "output_type": "stream",
     "text": [
      "Scoring signatures: 100%|██████████| 1/1 [00:00<00:00,  7.04it/s]\n"
     ]
    },
    {
     "name": "stdout",
     "output_type": "stream",
     "text": [
      "Running simulation for seed: 6216\n"
     ]
    },
    {
     "name": "stderr",
     "output_type": "stream",
     "text": [
      "Scoring signatures: 100%|██████████| 1/1 [00:00<00:00,  7.84it/s]\n"
     ]
    },
    {
     "name": "stdout",
     "output_type": "stream",
     "text": [
      "Running simulation for seed: 6921\n"
     ]
    },
    {
     "name": "stderr",
     "output_type": "stream",
     "text": [
      "Scoring signatures: 100%|██████████| 1/1 [00:00<00:00,  7.69it/s]\n"
     ]
    },
    {
     "name": "stdout",
     "output_type": "stream",
     "text": [
      "Running simulation for seed: 6036\n"
     ]
    },
    {
     "name": "stderr",
     "output_type": "stream",
     "text": [
      "Scoring signatures: 100%|██████████| 1/1 [00:00<00:00,  7.64it/s]\n"
     ]
    },
    {
     "name": "stdout",
     "output_type": "stream",
     "text": [
      "Running simulation for seed: 2163\n"
     ]
    },
    {
     "name": "stderr",
     "output_type": "stream",
     "text": [
      "Scoring signatures: 100%|██████████| 1/1 [00:00<00:00,  7.37it/s]\n"
     ]
    },
    {
     "name": "stdout",
     "output_type": "stream",
     "text": [
      "Running simulation for seed: 5072\n"
     ]
    },
    {
     "name": "stderr",
     "output_type": "stream",
     "text": [
      "Scoring signatures: 100%|██████████| 1/1 [00:00<00:00,  7.30it/s]\n"
     ]
    },
    {
     "name": "stdout",
     "output_type": "stream",
     "text": [
      "Running simulation for seed: 4851\n"
     ]
    },
    {
     "name": "stderr",
     "output_type": "stream",
     "text": [
      "Scoring signatures: 100%|██████████| 1/1 [00:00<00:00,  7.79it/s]\n"
     ]
    },
    {
     "name": "stdout",
     "output_type": "stream",
     "text": [
      "Running simulation for seed: 7877\n"
     ]
    },
    {
     "name": "stderr",
     "output_type": "stream",
     "text": [
      "Scoring signatures: 100%|██████████| 1/1 [00:00<00:00,  7.56it/s]\n"
     ]
    },
    {
     "name": "stdout",
     "output_type": "stream",
     "text": [
      "Running simulation for seed: 2046\n"
     ]
    },
    {
     "name": "stderr",
     "output_type": "stream",
     "text": [
      "Scoring signatures: 100%|██████████| 1/1 [00:00<00:00,  7.10it/s]\n"
     ]
    },
    {
     "name": "stdout",
     "output_type": "stream",
     "text": [
      "Running simulation for seed: 1871\n"
     ]
    },
    {
     "name": "stderr",
     "output_type": "stream",
     "text": [
      "Scoring signatures: 100%|██████████| 1/1 [00:00<00:00,  7.60it/s]\n"
     ]
    },
    {
     "name": "stdout",
     "output_type": "stream",
     "text": [
      "Running simulation for seed: 7599\n"
     ]
    },
    {
     "name": "stderr",
     "output_type": "stream",
     "text": [
      "Scoring signatures: 100%|██████████| 1/1 [00:00<00:00,  6.72it/s]\n"
     ]
    },
    {
     "name": "stdout",
     "output_type": "stream",
     "text": [
      "Running simulation for seed: 2496\n"
     ]
    },
    {
     "name": "stderr",
     "output_type": "stream",
     "text": [
      "Scoring signatures: 100%|██████████| 1/1 [00:00<00:00,  7.32it/s]\n"
     ]
    },
    {
     "name": "stdout",
     "output_type": "stream",
     "text": [
      "Running simulation for seed: 8291\n"
     ]
    },
    {
     "name": "stderr",
     "output_type": "stream",
     "text": [
      "Scoring signatures: 100%|██████████| 1/1 [00:00<00:00,  7.68it/s]\n"
     ]
    },
    {
     "name": "stdout",
     "output_type": "stream",
     "text": [
      "Running simulation for seed: 755\n"
     ]
    },
    {
     "name": "stderr",
     "output_type": "stream",
     "text": [
      "Scoring signatures: 100%|██████████| 1/1 [00:00<00:00,  7.43it/s]\n"
     ]
    },
    {
     "name": "stdout",
     "output_type": "stream",
     "text": [
      "Running simulation for seed: 797\n"
     ]
    },
    {
     "name": "stderr",
     "output_type": "stream",
     "text": [
      "Scoring signatures: 100%|██████████| 1/1 [00:00<00:00,  7.73it/s]\n"
     ]
    },
    {
     "name": "stdout",
     "output_type": "stream",
     "text": [
      "Running simulation for seed: 659\n"
     ]
    },
    {
     "name": "stderr",
     "output_type": "stream",
     "text": [
      "Scoring signatures: 100%|██████████| 1/1 [00:00<00:00,  7.29it/s]\n"
     ]
    },
    {
     "name": "stdout",
     "output_type": "stream",
     "text": [
      "Running simulation for seed: 3219\n"
     ]
    },
    {
     "name": "stderr",
     "output_type": "stream",
     "text": [
      "Scoring signatures: 100%|██████████| 1/1 [00:00<00:00,  7.46it/s]\n"
     ]
    },
    {
     "name": "stdout",
     "output_type": "stream",
     "text": [
      "Running simulation for seed: 8615\n"
     ]
    },
    {
     "name": "stderr",
     "output_type": "stream",
     "text": [
      "Scoring signatures: 100%|██████████| 1/1 [00:00<00:00,  5.41it/s]\n"
     ]
    },
    {
     "name": "stdout",
     "output_type": "stream",
     "text": [
      "Running simulation for seed: 7456\n"
     ]
    },
    {
     "name": "stderr",
     "output_type": "stream",
     "text": [
      "Scoring signatures: 100%|██████████| 1/1 [00:00<00:00,  7.78it/s]\n"
     ]
    },
    {
     "name": "stdout",
     "output_type": "stream",
     "text": [
      "Running simulation for seed: 3337\n"
     ]
    },
    {
     "name": "stderr",
     "output_type": "stream",
     "text": [
      "Scoring signatures: 100%|██████████| 1/1 [00:00<00:00,  7.58it/s]\n"
     ]
    },
    {
     "name": "stdout",
     "output_type": "stream",
     "text": [
      "Running simulation for seed: 2745\n"
     ]
    },
    {
     "name": "stderr",
     "output_type": "stream",
     "text": [
      "Scoring signatures: 100%|██████████| 1/1 [00:00<00:00,  7.41it/s]\n"
     ]
    },
    {
     "name": "stdout",
     "output_type": "stream",
     "text": [
      "Running simulation for seed: 4735\n"
     ]
    },
    {
     "name": "stderr",
     "output_type": "stream",
     "text": [
      "Scoring signatures: 100%|██████████| 1/1 [00:00<00:00,  7.20it/s]\n"
     ]
    },
    {
     "name": "stdout",
     "output_type": "stream",
     "text": [
      "Running simulation for seed: 8736\n"
     ]
    },
    {
     "name": "stderr",
     "output_type": "stream",
     "text": [
      "Scoring signatures: 100%|██████████| 1/1 [00:00<00:00,  7.13it/s]\n"
     ]
    },
    {
     "name": "stdout",
     "output_type": "stream",
     "text": [
      "Running simulation for seed: 6687\n"
     ]
    },
    {
     "name": "stderr",
     "output_type": "stream",
     "text": [
      "Scoring signatures: 100%|██████████| 1/1 [00:00<00:00,  7.26it/s]\n"
     ]
    },
    {
     "name": "stdout",
     "output_type": "stream",
     "text": [
      "Running simulation for seed: 714\n"
     ]
    },
    {
     "name": "stderr",
     "output_type": "stream",
     "text": [
      "Scoring signatures: 100%|██████████| 1/1 [00:00<00:00,  6.85it/s]\n"
     ]
    },
    {
     "name": "stdout",
     "output_type": "stream",
     "text": [
      "Running simulation for seed: 2292\n"
     ]
    },
    {
     "name": "stderr",
     "output_type": "stream",
     "text": [
      "Scoring signatures: 100%|██████████| 1/1 [00:00<00:00,  7.15it/s]\n"
     ]
    },
    {
     "name": "stdout",
     "output_type": "stream",
     "text": [
      "Running simulation for seed: 8343\n"
     ]
    },
    {
     "name": "stderr",
     "output_type": "stream",
     "text": [
      "Scoring signatures: 100%|██████████| 1/1 [00:00<00:00,  7.38it/s]\n"
     ]
    },
    {
     "name": "stdout",
     "output_type": "stream",
     "text": [
      "Running simulation for seed: 1207\n"
     ]
    },
    {
     "name": "stderr",
     "output_type": "stream",
     "text": [
      "Scoring signatures: 100%|██████████| 1/1 [00:00<00:00,  7.05it/s]\n"
     ]
    },
    {
     "name": "stdout",
     "output_type": "stream",
     "text": [
      "Running simulation for seed: 6172\n"
     ]
    },
    {
     "name": "stderr",
     "output_type": "stream",
     "text": [
      "Scoring signatures: 100%|██████████| 1/1 [00:00<00:00,  7.59it/s]\n"
     ]
    },
    {
     "name": "stdout",
     "output_type": "stream",
     "text": [
      "Running simulation for seed: 8994\n"
     ]
    },
    {
     "name": "stderr",
     "output_type": "stream",
     "text": [
      "Scoring signatures: 100%|██████████| 1/1 [00:00<00:00,  7.30it/s]\n"
     ]
    },
    {
     "name": "stdout",
     "output_type": "stream",
     "text": [
      "Running simulation for seed: 7221\n"
     ]
    },
    {
     "name": "stderr",
     "output_type": "stream",
     "text": [
      "Scoring signatures: 100%|██████████| 1/1 [00:00<00:00,  7.69it/s]\n"
     ]
    },
    {
     "name": "stdout",
     "output_type": "stream",
     "text": [
      "Running simulation for seed: 6021\n"
     ]
    },
    {
     "name": "stderr",
     "output_type": "stream",
     "text": [
      "Scoring signatures: 100%|██████████| 1/1 [00:00<00:00,  7.51it/s]\n"
     ]
    },
    {
     "name": "stdout",
     "output_type": "stream",
     "text": [
      "Running simulation for seed: 3622\n"
     ]
    },
    {
     "name": "stderr",
     "output_type": "stream",
     "text": [
      "Scoring signatures: 100%|██████████| 1/1 [00:00<00:00,  7.54it/s]\n"
     ]
    },
    {
     "name": "stdout",
     "output_type": "stream",
     "text": [
      "Running simulation for seed: 3560\n"
     ]
    },
    {
     "name": "stderr",
     "output_type": "stream",
     "text": [
      "Scoring signatures: 100%|██████████| 1/1 [00:00<00:00,  7.13it/s]\n"
     ]
    },
    {
     "name": "stdout",
     "output_type": "stream",
     "text": [
      "Running simulation for seed: 8948\n"
     ]
    },
    {
     "name": "stderr",
     "output_type": "stream",
     "text": [
      "Scoring signatures: 100%|██████████| 1/1 [00:00<00:00,  5.08it/s]\n"
     ]
    },
    {
     "name": "stdout",
     "output_type": "stream",
     "text": [
      "Running simulation for seed: 1641\n"
     ]
    },
    {
     "name": "stderr",
     "output_type": "stream",
     "text": [
      "Scoring signatures: 100%|██████████| 1/1 [00:00<00:00,  7.60it/s]\n"
     ]
    },
    {
     "name": "stdout",
     "output_type": "stream",
     "text": [
      "Running simulation for seed: 4984\n"
     ]
    },
    {
     "name": "stderr",
     "output_type": "stream",
     "text": [
      "Scoring signatures: 100%|██████████| 1/1 [00:00<00:00,  7.16it/s]\n"
     ]
    },
    {
     "name": "stdout",
     "output_type": "stream",
     "text": [
      "Running simulation for seed: 4353\n"
     ]
    },
    {
     "name": "stderr",
     "output_type": "stream",
     "text": [
      "Scoring signatures: 100%|██████████| 1/1 [00:00<00:00,  7.21it/s]\n"
     ]
    },
    {
     "name": "stdout",
     "output_type": "stream",
     "text": [
      "Running simulation for seed: 8622\n"
     ]
    },
    {
     "name": "stderr",
     "output_type": "stream",
     "text": [
      "Scoring signatures: 100%|██████████| 1/1 [00:00<00:00,  7.83it/s]\n"
     ]
    },
    {
     "name": "stdout",
     "output_type": "stream",
     "text": [
      "Running simulation for seed: 7250\n"
     ]
    },
    {
     "name": "stderr",
     "output_type": "stream",
     "text": [
      "Scoring signatures: 100%|██████████| 1/1 [00:00<00:00,  7.38it/s]\n"
     ]
    },
    {
     "name": "stdout",
     "output_type": "stream",
     "text": [
      "Running simulation for seed: 4187\n"
     ]
    },
    {
     "name": "stderr",
     "output_type": "stream",
     "text": [
      "Scoring signatures: 100%|██████████| 1/1 [00:00<00:00,  7.20it/s]\n"
     ]
    },
    {
     "name": "stdout",
     "output_type": "stream",
     "text": [
      "Running simulation for seed: 2659\n"
     ]
    },
    {
     "name": "stderr",
     "output_type": "stream",
     "text": [
      "Scoring signatures: 100%|██████████| 1/1 [00:00<00:00,  7.21it/s]\n"
     ]
    },
    {
     "name": "stdout",
     "output_type": "stream",
     "text": [
      "Running simulation for seed: 9781\n"
     ]
    },
    {
     "name": "stderr",
     "output_type": "stream",
     "text": [
      "Scoring signatures: 100%|██████████| 1/1 [00:00<00:00,  7.41it/s]\n"
     ]
    },
    {
     "name": "stdout",
     "output_type": "stream",
     "text": [
      "Running simulation for seed: 2956\n"
     ]
    },
    {
     "name": "stderr",
     "output_type": "stream",
     "text": [
      "Scoring signatures: 100%|██████████| 1/1 [00:00<00:00,  7.24it/s]\n"
     ]
    },
    {
     "name": "stdout",
     "output_type": "stream",
     "text": [
      "Running simulation for seed: 2251\n"
     ]
    },
    {
     "name": "stderr",
     "output_type": "stream",
     "text": [
      "Scoring signatures: 100%|██████████| 1/1 [00:00<00:00,  7.44it/s]\n"
     ]
    },
    {
     "name": "stdout",
     "output_type": "stream",
     "text": [
      "Running simulation for seed: 4420\n"
     ]
    },
    {
     "name": "stderr",
     "output_type": "stream",
     "text": [
      "Scoring signatures: 100%|██████████| 1/1 [00:00<00:00,  7.12it/s]\n"
     ]
    },
    {
     "name": "stdout",
     "output_type": "stream",
     "text": [
      "Running simulation for seed: 7108\n"
     ]
    },
    {
     "name": "stderr",
     "output_type": "stream",
     "text": [
      "Scoring signatures: 100%|██████████| 1/1 [00:00<00:00,  7.39it/s]\n"
     ]
    },
    {
     "name": "stdout",
     "output_type": "stream",
     "text": [
      "Running simulation for seed: 1071\n"
     ]
    },
    {
     "name": "stderr",
     "output_type": "stream",
     "text": [
      "Scoring signatures: 100%|██████████| 1/1 [00:00<00:00,  7.13it/s]\n"
     ]
    },
    {
     "name": "stdout",
     "output_type": "stream",
     "text": [
      "Running simulation for seed: 5251\n"
     ]
    },
    {
     "name": "stderr",
     "output_type": "stream",
     "text": [
      "Scoring signatures: 100%|██████████| 1/1 [00:00<00:00,  7.83it/s]\n"
     ]
    },
    {
     "name": "stdout",
     "output_type": "stream",
     "text": [
      "Running simulation for seed: 7012\n"
     ]
    },
    {
     "name": "stderr",
     "output_type": "stream",
     "text": [
      "Scoring signatures: 100%|██████████| 1/1 [00:00<00:00,  7.01it/s]\n"
     ]
    },
    {
     "name": "stdout",
     "output_type": "stream",
     "text": [
      "Running simulation for seed: 9396\n"
     ]
    },
    {
     "name": "stderr",
     "output_type": "stream",
     "text": [
      "Scoring signatures: 100%|██████████| 1/1 [00:00<00:00,  7.43it/s]\n"
     ]
    },
    {
     "name": "stdout",
     "output_type": "stream",
     "text": [
      "Running simulation for seed: 3918\n"
     ]
    },
    {
     "name": "stderr",
     "output_type": "stream",
     "text": [
      "Scoring signatures: 100%|██████████| 1/1 [00:00<00:00,  7.44it/s]\n"
     ]
    },
    {
     "name": "stdout",
     "output_type": "stream",
     "text": [
      "Running simulation for seed: 9359\n"
     ]
    },
    {
     "name": "stderr",
     "output_type": "stream",
     "text": [
      "Scoring signatures: 100%|██████████| 1/1 [00:00<00:00,  6.76it/s]\n"
     ]
    },
    {
     "name": "stdout",
     "output_type": "stream",
     "text": [
      "Running simulation for seed: 1684\n"
     ]
    },
    {
     "name": "stderr",
     "output_type": "stream",
     "text": [
      "Scoring signatures: 100%|██████████| 1/1 [00:00<00:00,  7.21it/s]\n"
     ]
    },
    {
     "name": "stdout",
     "output_type": "stream",
     "text": [
      "Running simulation for seed: 7098\n"
     ]
    },
    {
     "name": "stderr",
     "output_type": "stream",
     "text": [
      "Scoring signatures: 100%|██████████| 1/1 [00:00<00:00,  7.53it/s]\n"
     ]
    },
    {
     "name": "stdout",
     "output_type": "stream",
     "text": [
      "Running simulation for seed: 2957\n"
     ]
    },
    {
     "name": "stderr",
     "output_type": "stream",
     "text": [
      "Scoring signatures: 100%|██████████| 1/1 [00:00<00:00,  7.29it/s]\n"
     ]
    },
    {
     "name": "stdout",
     "output_type": "stream",
     "text": [
      "Running simulation for seed: 4469\n"
     ]
    },
    {
     "name": "stderr",
     "output_type": "stream",
     "text": [
      "Scoring signatures: 100%|██████████| 1/1 [00:00<00:00,  7.16it/s]\n"
     ]
    },
    {
     "name": "stdout",
     "output_type": "stream",
     "text": [
      "Running simulation for seed: 8752\n"
     ]
    },
    {
     "name": "stderr",
     "output_type": "stream",
     "text": [
      "Scoring signatures: 100%|██████████| 1/1 [00:00<00:00,  8.18it/s]\n"
     ]
    },
    {
     "name": "stdout",
     "output_type": "stream",
     "text": [
      "Running simulation for seed: 9797\n"
     ]
    },
    {
     "name": "stderr",
     "output_type": "stream",
     "text": [
      "Scoring signatures: 100%|██████████| 1/1 [00:00<00:00,  7.48it/s]\n"
     ]
    },
    {
     "name": "stdout",
     "output_type": "stream",
     "text": [
      "Running simulation for seed: 5795\n"
     ]
    },
    {
     "name": "stderr",
     "output_type": "stream",
     "text": [
      "Scoring signatures: 100%|██████████| 1/1 [00:00<00:00,  7.31it/s]\n"
     ]
    },
    {
     "name": "stdout",
     "output_type": "stream",
     "text": [
      "Running simulation for seed: 1472\n"
     ]
    },
    {
     "name": "stderr",
     "output_type": "stream",
     "text": [
      "Scoring signatures: 100%|██████████| 1/1 [00:00<00:00,  7.52it/s]\n"
     ]
    },
    {
     "name": "stdout",
     "output_type": "stream",
     "text": [
      "Running simulation for seed: 7263\n"
     ]
    },
    {
     "name": "stderr",
     "output_type": "stream",
     "text": [
      "Scoring signatures: 100%|██████████| 1/1 [00:00<00:00,  7.11it/s]\n"
     ]
    },
    {
     "name": "stdout",
     "output_type": "stream",
     "text": [
      "Running simulation for seed: 7365\n"
     ]
    },
    {
     "name": "stderr",
     "output_type": "stream",
     "text": [
      "Scoring signatures: 100%|██████████| 1/1 [00:00<00:00,  7.13it/s]\n"
     ]
    },
    {
     "name": "stdout",
     "output_type": "stream",
     "text": [
      "Running simulation for seed: 8448\n"
     ]
    },
    {
     "name": "stderr",
     "output_type": "stream",
     "text": [
      "Scoring signatures: 100%|██████████| 1/1 [00:00<00:00,  7.52it/s]\n"
     ]
    },
    {
     "name": "stdout",
     "output_type": "stream",
     "text": [
      "Running simulation for seed: 6001\n"
     ]
    },
    {
     "name": "stderr",
     "output_type": "stream",
     "text": [
      "Scoring signatures: 100%|██████████| 1/1 [00:00<00:00,  6.98it/s]\n"
     ]
    },
    {
     "name": "stdout",
     "output_type": "stream",
     "text": [
      "Running simulation for seed: 3762\n"
     ]
    },
    {
     "name": "stderr",
     "output_type": "stream",
     "text": [
      "Scoring signatures: 100%|██████████| 1/1 [00:00<00:00,  7.33it/s]\n"
     ]
    },
    {
     "name": "stdout",
     "output_type": "stream",
     "text": [
      "Running simulation for seed: 9008\n"
     ]
    },
    {
     "name": "stderr",
     "output_type": "stream",
     "text": [
      "Scoring signatures: 100%|██████████| 1/1 [00:00<00:00,  7.12it/s]\n"
     ]
    },
    {
     "name": "stdout",
     "output_type": "stream",
     "text": [
      "Running simulation for seed: 2435\n"
     ]
    },
    {
     "name": "stderr",
     "output_type": "stream",
     "text": [
      "Scoring signatures: 100%|██████████| 1/1 [00:00<00:00,  7.44it/s]\n"
     ]
    },
    {
     "name": "stdout",
     "output_type": "stream",
     "text": [
      "Running simulation for seed: 1634\n"
     ]
    },
    {
     "name": "stderr",
     "output_type": "stream",
     "text": [
      "Scoring signatures: 100%|██████████| 1/1 [00:00<00:00,  7.11it/s]\n"
     ]
    },
    {
     "name": "stdout",
     "output_type": "stream",
     "text": [
      "Running simulation for seed: 973\n"
     ]
    },
    {
     "name": "stderr",
     "output_type": "stream",
     "text": [
      "Scoring signatures: 100%|██████████| 1/1 [00:00<00:00,  7.42it/s]\n"
     ]
    },
    {
     "name": "stdout",
     "output_type": "stream",
     "text": [
      "Running simulation for seed: 4464\n"
     ]
    },
    {
     "name": "stderr",
     "output_type": "stream",
     "text": [
      "Scoring signatures: 100%|██████████| 1/1 [00:00<00:00,  7.11it/s]\n"
     ]
    },
    {
     "name": "stdout",
     "output_type": "stream",
     "text": [
      "Running simulation for seed: 8393\n"
     ]
    },
    {
     "name": "stderr",
     "output_type": "stream",
     "text": [
      "Scoring signatures: 100%|██████████| 1/1 [00:00<00:00,  7.66it/s]\n"
     ]
    },
    {
     "name": "stdout",
     "output_type": "stream",
     "text": [
      "Running simulation for seed: 2418\n"
     ]
    },
    {
     "name": "stderr",
     "output_type": "stream",
     "text": [
      "Scoring signatures: 100%|██████████| 1/1 [00:00<00:00,  7.64it/s]\n"
     ]
    },
    {
     "name": "stdout",
     "output_type": "stream",
     "text": [
      "Running simulation for seed: 3455\n"
     ]
    },
    {
     "name": "stderr",
     "output_type": "stream",
     "text": [
      "Scoring signatures: 100%|██████████| 1/1 [00:00<00:00,  6.99it/s]\n"
     ]
    },
    {
     "name": "stdout",
     "output_type": "stream",
     "text": [
      "Running simulation for seed: 6167\n"
     ]
    },
    {
     "name": "stderr",
     "output_type": "stream",
     "text": [
      "Scoring signatures: 100%|██████████| 1/1 [00:00<00:00,  5.39it/s]\n"
     ]
    },
    {
     "name": "stdout",
     "output_type": "stream",
     "text": [
      "Running simulation for seed: 5819\n"
     ]
    },
    {
     "name": "stderr",
     "output_type": "stream",
     "text": [
      "Scoring signatures: 100%|██████████| 1/1 [00:00<00:00,  7.02it/s]\n"
     ]
    },
    {
     "name": "stdout",
     "output_type": "stream",
     "text": [
      "Running simulation for seed: 6521\n"
     ]
    },
    {
     "name": "stderr",
     "output_type": "stream",
     "text": [
      "Scoring signatures: 100%|██████████| 1/1 [00:00<00:00,  7.43it/s]\n"
     ]
    },
    {
     "name": "stdout",
     "output_type": "stream",
     "text": [
      "Running simulation for seed: 6242\n"
     ]
    },
    {
     "name": "stderr",
     "output_type": "stream",
     "text": [
      "Scoring signatures: 100%|██████████| 1/1 [00:00<00:00,  7.45it/s]\n"
     ]
    },
    {
     "name": "stdout",
     "output_type": "stream",
     "text": [
      "Running simulation for seed: 7742\n"
     ]
    },
    {
     "name": "stderr",
     "output_type": "stream",
     "text": [
      "Scoring signatures: 100%|██████████| 1/1 [00:00<00:00,  7.75it/s]\n"
     ]
    },
    {
     "name": "stdout",
     "output_type": "stream",
     "text": [
      "Running simulation for seed: 9123\n"
     ]
    },
    {
     "name": "stderr",
     "output_type": "stream",
     "text": [
      "Scoring signatures: 100%|██████████| 1/1 [00:00<00:00,  7.33it/s]\n"
     ]
    },
    {
     "name": "stdout",
     "output_type": "stream",
     "text": [
      "Running simulation for seed: 6738\n"
     ]
    },
    {
     "name": "stderr",
     "output_type": "stream",
     "text": [
      "Scoring signatures: 100%|██████████| 1/1 [00:00<00:00,  7.89it/s]\n"
     ]
    },
    {
     "name": "stdout",
     "output_type": "stream",
     "text": [
      "Running simulation for seed: 2787\n"
     ]
    },
    {
     "name": "stderr",
     "output_type": "stream",
     "text": [
      "Scoring signatures: 100%|██████████| 1/1 [00:00<00:00,  6.75it/s]\n"
     ]
    },
    {
     "name": "stdout",
     "output_type": "stream",
     "text": [
      "Running simulation for seed: 7316\n"
     ]
    },
    {
     "name": "stderr",
     "output_type": "stream",
     "text": [
      "Scoring signatures: 100%|██████████| 1/1 [00:00<00:00,  7.07it/s]\n"
     ]
    },
    {
     "name": "stdout",
     "output_type": "stream",
     "text": [
      "Running simulation for seed: 4305\n"
     ]
    },
    {
     "name": "stderr",
     "output_type": "stream",
     "text": [
      "Scoring signatures: 100%|██████████| 1/1 [00:00<00:00,  6.27it/s]\n"
     ]
    }
   ],
   "source": [
    "for seed in random_numbers:\n",
    "    print(f\"Running simulation for seed: {seed}\")\n",
    "\n",
    "    adata = generate_spatial_cancer_data(seed=seed)\n",
    "    adata.obs[\"cluster\"] = pd.Categorical(adata.obs[\"cluster\"])\n",
    "\n",
    "    # Normalisation pipeline\n",
    "    sc.pp.filter_genes(adata, min_cells=10)\n",
    "    sc.pp.normalize_total(adata)\n",
    "    sc.pp.log1p(adata)\n",
    "\n",
    "    # Identify marker genes\n",
    "    sc.tl.rank_genes_groups(adata, groupby=\"cluster\", method=\"t-test_overestim_var\", use_raw=False)\n",
    "    sc.tl.filter_rank_genes_groups(adata, min_in_group_fraction=0.5, min_fold_change=2, max_out_group_fraction=0.5)\n",
    "\n",
    "    gene_set_10 = adata.uns[\"rank_genes_groups\"][\"names\"][\"cluster_2\"][:10].tolist()\n",
    "    signatures_dict = {\"cluster_2\": gene_set_10}\n",
    "    signatures_df = pd.DataFrame(\n",
    "        [(key, gene) for key, genes in signatures_dict.items() for gene in genes],\n",
    "        columns=[\"geneset\", \"genesymbol\"]\n",
    "    )\n",
    "\n",
    "    # Score using EnrichMap\n",
    "    em.tl.score(adata, gene_set=gene_set_10, smoothing=True, correct_spatial_covariates=True)\n",
    "    adata.obs[\"enrichmap_score\"] = adata.obs[\"enrichmap_score\"]\n",
    "\n",
    "    # AUCell\n",
    "    dc.run_aucell(adata, net=signatures_df, source=\"geneset\", target=\"genesymbol\", seed=seed, verbose=False, use_raw=False)\n",
    "    acts = dc.get_acts(adata, obsm_key=\"aucell_estimate\")\n",
    "    adata.obs[\"aucell_score\"] = acts.obsm[\"aucell_estimate\"][\"cluster_2\"]\n",
    "\n",
    "    # ssGSEA\n",
    "    X_dense = adata.X.toarray() if not isinstance(adata.X, np.ndarray) else adata.X\n",
    "    gene_expr = pd.DataFrame(X_dense.T, index=adata.var_names, columns=adata.obs_names)\n",
    "    # gene_expr.index = gene_expr.index.str.upper()\n",
    "    # signatures_dict = {k: [g.upper() for g in v] for k, v in signatures_dict.items()}\n",
    "    ssgsea = gp.ssgsea(data=gene_expr, gene_sets=signatures_dict, outdir=None, sample_norm_method=\"rank\", no_plot=True, min_size=5)\n",
    "    nes = ssgsea.res2d.pivot(index=\"Term\", columns=\"Name\", values=\"NES\")\n",
    "    adata.obs[\"ssgsea_score\"] = nes.loc[\"cluster_2\"].T.astype(float).reindex(adata.obs_names)\n",
    "\n",
    "    # GSVA\n",
    "    gsva = gp.gsva(data=gene_expr,gene_sets=signatures_dict, outdir=None, min_size=5)\n",
    "    es = gsva.res2d.pivot(index=\"Term\", columns=\"Name\", values=\"ES\")\n",
    "    adata.obs[\"gsva_score\"] = es.loc[\"cluster_2\"].T.astype(float).reindex(adata.obs_names)\n",
    "\n",
    "    # z score\n",
    "    z_score = gene_expr.loc[gene_set_10].sum(axis=0) / np.sqrt(len(gene_set_10))\n",
    "    adata.obs[\"z_score\"] = z_score\n",
    "\n",
    "    # Scanpy AddModuleScore\n",
    "    sc.tl.score_genes(adata, gene_set_10, score_name=\"scanpy_score\", use_raw=False)\n",
    "\n",
    "    # Moran's I for each score\n",
    "    for score in [\"enrichmap_score\", \"aucell_score\", \"scanpy_score\", \"ssgsea_score\", \"gsva_score\", \"z_score\"]:\n",
    "        sq.gr.spatial_neighbors(adata, n_neighs=6, coord_type=\"generic\", key_added=\"spatial\")\n",
    "        # Extract spatial weights from coordinates\n",
    "        W = KNN.from_array(adata.obsm[\"spatial\"])\n",
    "        W.transform = \"r\"\n",
    "        score_vec = adata.obs[score].values.astype(np.float64)\n",
    "        moran = Moran(score_vec, W)\n",
    "        I = moran.I\n",
    "        spatial_metrics.append({\"seed\": seed, \"method\": score, \"moran_I\": I})\n",
    "\n",
    "        # Compute variogram\n",
    "        V = variogram(adata, score_keys=[score])[0]\n",
    "        for bin_edge, gamma in zip(V.bins, V.experimental):\n",
    "            variogram_summary.append({\n",
    "                \"seed\": seed,\n",
    "                \"method\": score,\n",
    "                \"distance\": bin_edge,\n",
    "                \"semivariance\": gamma\n",
    "            })\n",
    "\n",
    "    # Store scores\n",
    "    scores_summary.append(\n",
    "        pd.DataFrame({\n",
    "            \"seed\": seed,\n",
    "            \"enrichmap\": adata.obs[\"enrichmap_score\"],\n",
    "            \"aucell\": adata.obs[\"aucell_score\"],\n",
    "            \"scanpy\": adata.obs[\"scanpy_score\"],\n",
    "            \"ssgsea\": adata.obs[\"ssgsea_score\"],\n",
    "            \"gsva\": adata.obs[\"gsva_score\"],\n",
    "            \"z_score\": adata.obs[\"z_score\"]\n",
    "        })\n",
    "    )\n"
   ]
  },
  {
   "cell_type": "code",
   "execution_count": 12,
   "metadata": {},
   "outputs": [],
   "source": [
    "# Combine results\n",
    "metrics_df = pd.DataFrame(spatial_metrics)\n",
    "scores_df = pd.concat(scores_summary)\n",
    "variogram_df = pd.DataFrame(variogram_summary)"
   ]
  },
  {
   "cell_type": "code",
   "execution_count": 13,
   "metadata": {},
   "outputs": [
    {
     "data": {
      "text/plain": [
       "<Figure size 400x600 with 0 Axes>"
      ]
     },
     "metadata": {},
     "output_type": "display_data"
    },
    {
     "data": {
      "image/png": "[encoded data removed]",
      "text/plain": [
       "<Figure size 400x400 with 1 Axes>"
      ]
     },
     "metadata": {
      "image/png": {
       "height": 377,
       "width": 426
      }
     },
     "output_type": "display_data"
    }
   ],
   "source": [
    "# Plot Moran's I with error bars\n",
    "plt.figure(figsize=(4, 6))\n",
    "metrics_df.groupby(\"method\")[\"moran_I\"].agg([\"mean\", \"std\"]).plot.bar(y=\"mean\", yerr=\"std\", capsize=4)\n",
    "plt.ylabel(\"Moran's I\")\n",
    "plt.title(\"Spatial autocorrelation across 100 simulations\")\n",
    "plt.tight_layout()\n",
    "plt.grid(False)\n",
    "plt.savefig(figure_dir + \"moranI_across_simulations.pdf\")\n",
    "plt.show()"
   ]
  },
  {
   "cell_type": "code",
   "execution_count": 14,
   "metadata": {},
   "outputs": [
    {
     "data": {
      "image/png": "[encoded data removed]",
      "text/plain": [
       "<Figure size 400x400 with 1 Axes>"
      ]
     },
     "metadata": {
      "image/png": {
       "height": 377,
       "width": 377
      }
     },
     "output_type": "display_data"
    }
   ],
   "source": [
    "# Plot average variogram\n",
    "plt.figure(figsize=(4, 4))\n",
    "for method in [\"enrichmap_score\", \"aucell_score\", \"scanpy_score\", \"ssgsea_score\", \"gsva_score\", \"z_score\"]:\n",
    "    df = variogram_df[variogram_df[\"method\"] == method]\n",
    "    grouped = df.groupby(\"distance\")[\"semivariance\"].agg([\"mean\", \"std\"])\n",
    "    plt.errorbar(grouped.index, grouped[\"mean\"], yerr=grouped[\"std\"], label=method, capsize=3)\n",
    "\n",
    "plt.xlabel(\"Distance\")\n",
    "plt.ylabel(\"Semivariance\")\n",
    "plt.title(\"Empirical variograms (mean ± SD)\")\n",
    "plt.legend()\n",
    "plt.tight_layout()\n",
    "plt.grid(False)\n",
    "plt.savefig(figure_dir + \"variograms_across_simulations.pdf\")\n",
    "plt.show()"
   ]
  },
  {
   "cell_type": "code",
   "execution_count": 15,
   "metadata": {},
   "outputs": [],
   "source": [
    "# Optionally, save metrics to CSV\n",
    "metrics_df.to_csv(os.path.join(figure_dir, \"spatial_metrics.csv\"), index=False)\n",
    "scores_df.to_csv(os.path.join(figure_dir, \"scores_summary.csv\"), index=False)\n",
    "variogram_df.to_csv(os.path.join(figure_dir, \"variogram_summary.csv\"), index=False)"
   ]
  },
  {
   "cell_type": "code",
   "execution_count": 16,
   "metadata": {},
   "outputs": [
    {
     "data": {
      "image/png": "[encoded data removed]",
      "text/plain": [
       "<Figure size 400x400 with 1 Axes>"
      ]
     },
     "metadata": {
      "image/png": {
       "height": 377,
       "width": 377
      }
     },
     "output_type": "display_data"
    }
   ],
   "source": [
    "# Plot average variogram\n",
    "plt.figure(figsize=(4, 4))\n",
    "for method in [\"enrichmap_score\", \"aucell_score\", \"scanpy_score\", \"ssgsea_score\", \"gsva_score\"]:\n",
    "    df = variogram_df[variogram_df[\"method\"] == method]\n",
    "    grouped = df.groupby(\"distance\")[\"semivariance\"].agg([\"mean\", \"std\"])\n",
    "    plt.errorbar(grouped.index, grouped[\"mean\"], yerr=grouped[\"std\"], label=method, capsize=3)\n",
    "\n",
    "plt.xlabel(\"Distance\")\n",
    "plt.ylabel(\"Semivariance\")\n",
    "plt.title(\"Empirical variograms (mean ± SD)\")\n",
    "plt.legend()\n",
    "plt.tight_layout()\n",
    "plt.grid(False)\n",
    "plt.savefig(figure_dir + \"variograms_across_simulations_except.pdf\")\n",
    "plt.show()"
   ]
  }
 ],
 "metadata": {
  "kernelspec": {
   "display_name": "squidpy_env",
   "language": "python",
   "name": "python3"
  },
  "language_info": {
   "codemirror_mode": {
    "name": "ipython",
    "version": 3
   },
   "file_extension": ".py",
   "mimetype": "text/x-python",
   "name": "python",
   "nbconvert_exporter": "python",
   "pygments_lexer": "ipython3",
   "version": "undefined.undefined.undefined"
  }
 },
 "nbformat": 4,
 "nbformat_minor": 2
}
